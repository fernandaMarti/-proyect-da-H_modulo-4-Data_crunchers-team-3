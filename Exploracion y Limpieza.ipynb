{
 "cells": [
  {
   "cell_type": "code",
   "execution_count": 1,
   "metadata": {},
   "outputs": [],
   "source": [
    "# Importamos las librerías necesarias\n",
    "import random\n",
    "import pandas as pd\n",
    "import warnings\n",
    "warnings.filterwarnings(\"ignore\")"
   ]
  },
  {
   "cell_type": "code",
   "execution_count": 2,
   "metadata": {},
   "outputs": [],
   "source": [
    "# Leemos el csv con el que vamos a trabajar\n",
    "df_o = pd.read_csv('/Users/patriciagonzalez/Adalab/Repositorios-Adalab/-proyect-da-H_modulo-4-Data_crunchers-team-3/CSVs/finanzas-hotel-bookings.csv', index_col = 0)"
   ]
  },
  {
   "cell_type": "code",
   "execution_count": 3,
   "metadata": {},
   "outputs": [
    {
     "data": {
      "text/html": [
       "<div>\n",
       "<style scoped>\n",
       "    .dataframe tbody tr th:only-of-type {\n",
       "        vertical-align: middle;\n",
       "    }\n",
       "\n",
       "    .dataframe tbody tr th {\n",
       "        vertical-align: top;\n",
       "    }\n",
       "\n",
       "    .dataframe thead th {\n",
       "        text-align: right;\n",
       "    }\n",
       "</style>\n",
       "<table border=\"1\" class=\"dataframe\">\n",
       "  <thead>\n",
       "    <tr style=\"text-align: right;\">\n",
       "      <th></th>\n",
       "      <th>hotel</th>\n",
       "      <th>is_canceled</th>\n",
       "      <th>lead_time</th>\n",
       "      <th>arrival_date_year</th>\n",
       "      <th>arrival_date_month</th>\n",
       "      <th>arrival_date_week_number</th>\n",
       "      <th>arrival_date_day_of_month</th>\n",
       "      <th>stays_in_weekend_nights</th>\n",
       "      <th>stays_in_week_nights</th>\n",
       "      <th>adults</th>\n",
       "      <th>...</th>\n",
       "      <th>agent</th>\n",
       "      <th>company</th>\n",
       "      <th>days_in_waiting_list</th>\n",
       "      <th>customer_type</th>\n",
       "      <th>adr</th>\n",
       "      <th>required_car_parking_spaces</th>\n",
       "      <th>total_of_special_requests</th>\n",
       "      <th>reservation_status</th>\n",
       "      <th>reservation_status_date</th>\n",
       "      <th>0</th>\n",
       "    </tr>\n",
       "  </thead>\n",
       "  <tbody>\n",
       "    <tr>\n",
       "      <th>0</th>\n",
       "      <td>Resort Hotel</td>\n",
       "      <td>False</td>\n",
       "      <td>342.0</td>\n",
       "      <td>2015.0</td>\n",
       "      <td>July</td>\n",
       "      <td>27.0</td>\n",
       "      <td>1.0</td>\n",
       "      <td>0.0</td>\n",
       "      <td>0.0</td>\n",
       "      <td>2.0</td>\n",
       "      <td>...</td>\n",
       "      <td>NaN</td>\n",
       "      <td>NaN</td>\n",
       "      <td>0.0</td>\n",
       "      <td>Transient</td>\n",
       "      <td>0.0</td>\n",
       "      <td>0.0</td>\n",
       "      <td>0.0</td>\n",
       "      <td>Check-Out</td>\n",
       "      <td>2015-07-01 00:00:00</td>\n",
       "      <td>NaN</td>\n",
       "    </tr>\n",
       "    <tr>\n",
       "      <th>1</th>\n",
       "      <td>Resort Hotel</td>\n",
       "      <td>False</td>\n",
       "      <td>737.0</td>\n",
       "      <td>NaN</td>\n",
       "      <td>July</td>\n",
       "      <td>27.0</td>\n",
       "      <td>1.0</td>\n",
       "      <td>0.0</td>\n",
       "      <td>0.0</td>\n",
       "      <td>2.0</td>\n",
       "      <td>...</td>\n",
       "      <td>NaN</td>\n",
       "      <td>NaN</td>\n",
       "      <td>0.0</td>\n",
       "      <td>Transient</td>\n",
       "      <td>0.0</td>\n",
       "      <td>0.0</td>\n",
       "      <td>0.0</td>\n",
       "      <td>Check-Out</td>\n",
       "      <td>2015-07-01 00:00:00</td>\n",
       "      <td>NaN</td>\n",
       "    </tr>\n",
       "    <tr>\n",
       "      <th>2</th>\n",
       "      <td>Resort Hotel</td>\n",
       "      <td>False</td>\n",
       "      <td>7.0</td>\n",
       "      <td>2015.0</td>\n",
       "      <td>July</td>\n",
       "      <td>27.0</td>\n",
       "      <td>1.0</td>\n",
       "      <td>0.0</td>\n",
       "      <td>1.0</td>\n",
       "      <td>1.0</td>\n",
       "      <td>...</td>\n",
       "      <td>NaN</td>\n",
       "      <td>NaN</td>\n",
       "      <td>0.0</td>\n",
       "      <td>Transient</td>\n",
       "      <td>75.0</td>\n",
       "      <td>0.0</td>\n",
       "      <td>0.0</td>\n",
       "      <td>Check-Out</td>\n",
       "      <td>2015-07-02 00:00:00</td>\n",
       "      <td>NaN</td>\n",
       "    </tr>\n",
       "    <tr>\n",
       "      <th>3</th>\n",
       "      <td>Resort Hotel</td>\n",
       "      <td>False</td>\n",
       "      <td>13.0</td>\n",
       "      <td>NaN</td>\n",
       "      <td>July</td>\n",
       "      <td>27.0</td>\n",
       "      <td>1.0</td>\n",
       "      <td>0.0</td>\n",
       "      <td>1.0</td>\n",
       "      <td>1.0</td>\n",
       "      <td>...</td>\n",
       "      <td>304.0</td>\n",
       "      <td>NaN</td>\n",
       "      <td>0.0</td>\n",
       "      <td>Transient</td>\n",
       "      <td>75.0</td>\n",
       "      <td>0.0</td>\n",
       "      <td>0.0</td>\n",
       "      <td>Check-Out</td>\n",
       "      <td>2015-07-02 00:00:00</td>\n",
       "      <td>NaN</td>\n",
       "    </tr>\n",
       "    <tr>\n",
       "      <th>4</th>\n",
       "      <td>Resort Hotel</td>\n",
       "      <td>False</td>\n",
       "      <td>14.0</td>\n",
       "      <td>NaN</td>\n",
       "      <td>July</td>\n",
       "      <td>NaN</td>\n",
       "      <td>1.0</td>\n",
       "      <td>0.0</td>\n",
       "      <td>2.0</td>\n",
       "      <td>2.0</td>\n",
       "      <td>...</td>\n",
       "      <td>240.0</td>\n",
       "      <td>NaN</td>\n",
       "      <td>0.0</td>\n",
       "      <td>Transient</td>\n",
       "      <td>98.0</td>\n",
       "      <td>0.0</td>\n",
       "      <td>1.0</td>\n",
       "      <td>Check-Out</td>\n",
       "      <td>2015-07-03 00:00:00</td>\n",
       "      <td>NaN</td>\n",
       "    </tr>\n",
       "  </tbody>\n",
       "</table>\n",
       "<p>5 rows × 32 columns</p>\n",
       "</div>"
      ],
      "text/plain": [
       "          hotel is_canceled  lead_time  arrival_date_year arrival_date_month  \\\n",
       "0  Resort Hotel       False      342.0             2015.0               July   \n",
       "1  Resort Hotel       False      737.0                NaN               July   \n",
       "2  Resort Hotel       False        7.0             2015.0               July   \n",
       "3  Resort Hotel       False       13.0                NaN               July   \n",
       "4  Resort Hotel       False       14.0                NaN               July   \n",
       "\n",
       "   arrival_date_week_number  arrival_date_day_of_month  \\\n",
       "0                      27.0                        1.0   \n",
       "1                      27.0                        1.0   \n",
       "2                      27.0                        1.0   \n",
       "3                      27.0                        1.0   \n",
       "4                       NaN                        1.0   \n",
       "\n",
       "   stays_in_weekend_nights  stays_in_week_nights  adults  ...  agent  company  \\\n",
       "0                      0.0                   0.0     2.0  ...    NaN      NaN   \n",
       "1                      0.0                   0.0     2.0  ...    NaN      NaN   \n",
       "2                      0.0                   1.0     1.0  ...    NaN      NaN   \n",
       "3                      0.0                   1.0     1.0  ...  304.0      NaN   \n",
       "4                      0.0                   2.0     2.0  ...  240.0      NaN   \n",
       "\n",
       "  days_in_waiting_list customer_type   adr required_car_parking_spaces  \\\n",
       "0                  0.0     Transient   0.0                         0.0   \n",
       "1                  0.0     Transient   0.0                         0.0   \n",
       "2                  0.0     Transient  75.0                         0.0   \n",
       "3                  0.0     Transient  75.0                         0.0   \n",
       "4                  0.0     Transient  98.0                         0.0   \n",
       "\n",
       "   total_of_special_requests  reservation_status  reservation_status_date    0  \n",
       "0                        0.0           Check-Out      2015-07-01 00:00:00  NaN  \n",
       "1                        0.0           Check-Out      2015-07-01 00:00:00  NaN  \n",
       "2                        0.0           Check-Out      2015-07-02 00:00:00  NaN  \n",
       "3                        0.0           Check-Out      2015-07-02 00:00:00  NaN  \n",
       "4                        1.0           Check-Out      2015-07-03 00:00:00  NaN  \n",
       "\n",
       "[5 rows x 32 columns]"
      ]
     },
     "execution_count": 3,
     "metadata": {},
     "output_type": "execute_result"
    }
   ],
   "source": [
    "# Visualizamos las 5 primeras filas del DataFrame\n",
    "df_o.head()"
   ]
  },
  {
   "cell_type": "code",
   "execution_count": 4,
   "metadata": {},
   "outputs": [],
   "source": [
    "# Hacemos una copia del DataFrame original\n",
    "df = df_o.copy()"
   ]
  },
  {
   "cell_type": "code",
   "execution_count": 5,
   "metadata": {},
   "outputs": [
    {
     "name": "stdout",
     "output_type": "stream",
     "text": [
      "<class 'pandas.core.frame.DataFrame'>\n",
      "Index: 182877 entries, 0 to 182876\n",
      "Data columns (total 32 columns):\n",
      " #   Column                          Non-Null Count   Dtype  \n",
      "---  ------                          --------------   -----  \n",
      " 0   hotel                           119390 non-null  object \n",
      " 1   is_canceled                     119390 non-null  object \n",
      " 2   lead_time                       119490 non-null  float64\n",
      " 3   arrival_date_year               64829 non-null   float64\n",
      " 4   arrival_date_month              119390 non-null  object \n",
      " 5   arrival_date_week_number        101004 non-null  float64\n",
      " 6   arrival_date_day_of_month       119271 non-null  float64\n",
      " 7   stays_in_weekend_nights         119490 non-null  float64\n",
      " 8   stays_in_week_nights            119490 non-null  float64\n",
      " 9   adults                          119428 non-null  float64\n",
      " 10  children                        69302 non-null   float64\n",
      " 11  babies                          119431 non-null  float64\n",
      " 12  meal                            119390 non-null  object \n",
      " 13  country                         65054 non-null   object \n",
      " 14  market_segment                  59934 non-null   object \n",
      " 15  distribution_channel            105899 non-null  object \n",
      " 16  is_repeated_guest               114376 non-null  float64\n",
      " 17  previous_cancellations          76228 non-null   float64\n",
      " 18  previous_bookings_not_canceled  119390 non-null  float64\n",
      " 19  reserved_room_type              79275 non-null   object \n",
      " 20  assigned_room_type              119390 non-null  object \n",
      " 21  booking_changes                 119418 non-null  float64\n",
      " 22  agent                           103050 non-null  float64\n",
      " 23  company                         3870 non-null    float64\n",
      " 24  days_in_waiting_list            119390 non-null  float64\n",
      " 25  customer_type                   94199 non-null   object \n",
      " 26  adr                             119390 non-null  float64\n",
      " 27  required_car_parking_spaces     119390 non-null  float64\n",
      " 28  total_of_special_requests       119390 non-null  float64\n",
      " 29  reservation_status              119390 non-null  object \n",
      " 30  reservation_status_date         106514 non-null  object \n",
      " 31  0                               42951 non-null   object \n",
      "dtypes: float64(19), object(13)\n",
      "memory usage: 46.0+ MB\n"
     ]
    }
   ],
   "source": [
    "# Obtenemos información general del DataFrame\n",
    "df.info()"
   ]
  },
  {
   "cell_type": "code",
   "execution_count": 6,
   "metadata": {},
   "outputs": [
    {
     "data": {
      "text/plain": [
       "Index(['hotel', 'is_canceled', 'lead_time', 'arrival_date_year',\n",
       "       'arrival_date_month', 'arrival_date_week_number',\n",
       "       'arrival_date_day_of_month', 'stays_in_weekend_nights',\n",
       "       'stays_in_week_nights', 'adults', 'children', 'babies', 'meal',\n",
       "       'country', 'market_segment', 'distribution_channel',\n",
       "       'is_repeated_guest', 'previous_cancellations',\n",
       "       'previous_bookings_not_canceled', 'reserved_room_type',\n",
       "       'assigned_room_type', 'booking_changes', 'agent', 'company',\n",
       "       'days_in_waiting_list', 'customer_type', 'adr',\n",
       "       'required_car_parking_spaces', 'total_of_special_requests',\n",
       "       'reservation_status', 'reservation_status_date', '0'],\n",
       "      dtype='object')"
      ]
     },
     "execution_count": 6,
     "metadata": {},
     "output_type": "execute_result"
    }
   ],
   "source": [
    "# Visualizamos el nombre de las columnas\n",
    "df.columns"
   ]
  },
  {
   "cell_type": "code",
   "execution_count": 7,
   "metadata": {},
   "outputs": [],
   "source": [
    "# Eliminamos las columnas \"0\" y \"company\"\n",
    "df.drop(columns= ['0', 'company'], inplace = True)"
   ]
  },
  {
   "cell_type": "code",
   "execution_count": 8,
   "metadata": {},
   "outputs": [
    {
     "data": {
      "text/plain": [
       "(182877, 30)"
      ]
     },
     "execution_count": 8,
     "metadata": {},
     "output_type": "execute_result"
    }
   ],
   "source": [
    "# Comprobamos que se han eliminado las columnas correctamente\n",
    "df.shape"
   ]
  },
  {
   "cell_type": "code",
   "execution_count": 9,
   "metadata": {},
   "outputs": [
    {
     "data": {
      "text/plain": [
       "hotel                             34.715683\n",
       "is_canceled                       34.715683\n",
       "lead_time                         34.661002\n",
       "arrival_date_year                 64.550490\n",
       "arrival_date_month                34.715683\n",
       "arrival_date_week_number          44.769435\n",
       "arrival_date_day_of_month         34.780754\n",
       "stays_in_weekend_nights           34.661002\n",
       "stays_in_week_nights              34.661002\n",
       "adults                            34.694904\n",
       "children                          62.104584\n",
       "babies                            34.693264\n",
       "meal                              34.715683\n",
       "country                           64.427457\n",
       "market_segment                    67.227153\n",
       "distribution_channel              42.092773\n",
       "is_repeated_guest                 37.457417\n",
       "previous_cancellations            58.317339\n",
       "previous_bookings_not_canceled    34.715683\n",
       "reserved_room_type                56.651192\n",
       "assigned_room_type                34.715683\n",
       "booking_changes                   34.700372\n",
       "agent                             43.650650\n",
       "days_in_waiting_list              34.715683\n",
       "customer_type                     48.490515\n",
       "adr                               34.715683\n",
       "required_car_parking_spaces       34.715683\n",
       "total_of_special_requests         34.715683\n",
       "reservation_status                34.715683\n",
       "reservation_status_date           41.756481\n",
       "dtype: float64"
      ]
     },
     "execution_count": 9,
     "metadata": {},
     "output_type": "execute_result"
    }
   ],
   "source": [
    "# Comprobamos los porcentajes de nulos en las columnas\n",
    "porcentaje_nulos = df.isnull().mean() * 100\n",
    "porcentaje_nulos "
   ]
  },
  {
   "cell_type": "code",
   "execution_count": 10,
   "metadata": {},
   "outputs": [],
   "source": [
    "# Reemplazamos los valores nulos por 0 en las columnas\n",
    "def reemplazo_nan_cero(df, columnas):\n",
    "      for columna in columnas:\n",
    "        df[columna].fillna('0', inplace=True)\n",
    "\n",
    "columnas_a_reemplazar = ['children', 'adults', 'babies'] \n",
    "reemplazo_nan_cero(df, columnas_a_reemplazar)"
   ]
  },
  {
   "cell_type": "code",
   "execution_count": 11,
   "metadata": {},
   "outputs": [],
   "source": [
    "# Convertimos los valores de las filas a minúscula\n",
    "def lowercase_all_strings(df):\n",
    "    for col in df.columns:\n",
    "        if df[col].dtype == 'object':\n",
    "            # Nos aseguramos de que cada valor no nulo se trate como una cadena antes de convertirlo a minúsculas\n",
    "            df[col] = df[col].apply(lambda x: x.lower() if isinstance(x, str) else x)\n",
    "    return df\n",
    "\n",
    "df = lowercase_all_strings(df)"
   ]
  },
  {
   "cell_type": "markdown",
   "metadata": {},
   "source": [
    "**MANTENEMOS LOS VALORES NULOS DE LAS SIGUIENTES COLUMNAS:**\n",
    "\n",
    "- `hotel`\n",
    "- `is_canceled`\n",
    "- `arrival_date_month`\n",
    "- `arrival_date_week_number`\n",
    "- `arrival_date_day_of_month`\n",
    "- `stays_in_weekend_nights`\n",
    "- `stays_in_week_nights`\n",
    "- `country`\n",
    "- `previous_cancellations`\n",
    "- `previous_bookings_not_canceled`\n",
    "- `reserved_room_type`\n",
    "- `assigned_room_type`\n",
    "- `booking_changes`\n",
    "- `agent`\n",
    "- `days_in_waiting_list`\n",
    "- `customer_type`\n",
    "- `adr`\n",
    "- `required_car_parking_spaces`\n",
    "- `total_of_special_requests`\n",
    "- `reservation_status`\n",
    "- `reservation_status_date`\n"
   ]
  },
  {
   "cell_type": "code",
   "execution_count": 12,
   "metadata": {},
   "outputs": [],
   "source": [
    "# Reemplazamos los valores nulos por \"undefined\"\n",
    "def reemplazo_null_undefined(df, columnas):\n",
    "      for columna in columnas:\n",
    "        df[columna].fillna('undefined', inplace=True)\n",
    "\n",
    "columnas_a_reemplazar = ['meal', 'market_segment','distribution_channel'] \n",
    "reemplazo_null_undefined(df, columnas_a_reemplazar)"
   ]
  },
  {
   "cell_type": "code",
   "execution_count": 13,
   "metadata": {},
   "outputs": [
    {
     "data": {
      "text/plain": [
       "(array(['bb', 'fb', 'hb', 'sc', 'undefined'], dtype=object),\n",
       " array(['undefined', 'corporate', 'online ta', 'direct', 'offline ta/to',\n",
       "        'groups', 'complementary', 'aviation'], dtype=object),\n",
       " array(['direct', 'corporate', 'ta/to', 'undefined', 'gds'], dtype=object))"
      ]
     },
     "execution_count": 13,
     "metadata": {},
     "output_type": "execute_result"
    }
   ],
   "source": [
    "# Comprobamos que se han hecho los cambios correctamente\n",
    "df['meal'].unique(), df['market_segment'].unique(), df['distribution_channel'].unique()"
   ]
  },
  {
   "cell_type": "code",
   "execution_count": 14,
   "metadata": {},
   "outputs": [],
   "source": [
    "# Reemplazamos los valores 1, 2 y 3 por los meses enero, febrero y marzo\n",
    "reemplazos_dict = {\n",
    "    '1': 'january',\n",
    "    '2': 'february',\n",
    "    '3': 'march'\n",
    "}\n",
    "df['arrival_date_month'] = df['arrival_date_month'].replace(reemplazos_dict)"
   ]
  },
  {
   "cell_type": "code",
   "execution_count": 15,
   "metadata": {},
   "outputs": [
    {
     "data": {
      "text/plain": [
       "array(['july', 'august', 'september', 'october', 'november', 'december',\n",
       "       'january', 'february', 'march', 'april', 'may', 'june', nan],\n",
       "      dtype=object)"
      ]
     },
     "execution_count": 15,
     "metadata": {},
     "output_type": "execute_result"
    }
   ],
   "source": [
    "# Comprobamos que se han hecho los cambios correctamente\n",
    "df['arrival_date_month'].unique()"
   ]
  },
  {
   "cell_type": "code",
   "execution_count": 16,
   "metadata": {},
   "outputs": [
    {
     "data": {
      "text/html": [
       "<div>\n",
       "<style scoped>\n",
       "    .dataframe tbody tr th:only-of-type {\n",
       "        vertical-align: middle;\n",
       "    }\n",
       "\n",
       "    .dataframe tbody tr th {\n",
       "        vertical-align: top;\n",
       "    }\n",
       "\n",
       "    .dataframe thead th {\n",
       "        text-align: right;\n",
       "    }\n",
       "</style>\n",
       "<table border=\"1\" class=\"dataframe\">\n",
       "  <thead>\n",
       "    <tr style=\"text-align: right;\">\n",
       "      <th></th>\n",
       "      <th>hotel</th>\n",
       "      <th>is_canceled</th>\n",
       "      <th>lead_time</th>\n",
       "      <th>arrival_date_year</th>\n",
       "      <th>arrival_date_month</th>\n",
       "      <th>arrival_date_week_number</th>\n",
       "      <th>arrival_date_day_of_month</th>\n",
       "      <th>stays_in_weekend_nights</th>\n",
       "      <th>stays_in_week_nights</th>\n",
       "      <th>adults</th>\n",
       "      <th>...</th>\n",
       "      <th>assigned_room_type</th>\n",
       "      <th>booking_changes</th>\n",
       "      <th>agent</th>\n",
       "      <th>days_in_waiting_list</th>\n",
       "      <th>customer_type</th>\n",
       "      <th>adr</th>\n",
       "      <th>required_car_parking_spaces</th>\n",
       "      <th>total_of_special_requests</th>\n",
       "      <th>reservation_status</th>\n",
       "      <th>reservation_status_date</th>\n",
       "    </tr>\n",
       "  </thead>\n",
       "  <tbody>\n",
       "    <tr>\n",
       "      <th>5842</th>\n",
       "      <td>resort hotel</td>\n",
       "      <td>True</td>\n",
       "      <td>9.0</td>\n",
       "      <td>NaN</td>\n",
       "      <td>may</td>\n",
       "      <td>21.0</td>\n",
       "      <td>15.0</td>\n",
       "      <td>1.0</td>\n",
       "      <td>0.0</td>\n",
       "      <td>2.0</td>\n",
       "      <td>...</td>\n",
       "      <td>a</td>\n",
       "      <td>0.0</td>\n",
       "      <td>315.0</td>\n",
       "      <td>0.0</td>\n",
       "      <td>transient-party</td>\n",
       "      <td>70.0</td>\n",
       "      <td>0.0</td>\n",
       "      <td>0.0</td>\n",
       "      <td>canceled</td>\n",
       "      <td>2016-05-06 00:00:00</td>\n",
       "    </tr>\n",
       "    <tr>\n",
       "      <th>29498</th>\n",
       "      <td>resort hotel</td>\n",
       "      <td>False</td>\n",
       "      <td>87.0</td>\n",
       "      <td>2016.0</td>\n",
       "      <td>october</td>\n",
       "      <td>NaN</td>\n",
       "      <td>23.0</td>\n",
       "      <td>2.0</td>\n",
       "      <td>5.0</td>\n",
       "      <td>2.0</td>\n",
       "      <td>...</td>\n",
       "      <td>e</td>\n",
       "      <td>0.0</td>\n",
       "      <td>171.0</td>\n",
       "      <td>0.0</td>\n",
       "      <td>transient</td>\n",
       "      <td>70.0</td>\n",
       "      <td>0.0</td>\n",
       "      <td>0.0</td>\n",
       "      <td>check-out</td>\n",
       "      <td>2016-10-30 00:00:00</td>\n",
       "    </tr>\n",
       "    <tr>\n",
       "      <th>10278</th>\n",
       "      <td>resort hotel</td>\n",
       "      <td>True</td>\n",
       "      <td>112.0</td>\n",
       "      <td>NaN</td>\n",
       "      <td>february</td>\n",
       "      <td>8.0</td>\n",
       "      <td>24.0</td>\n",
       "      <td>2.0</td>\n",
       "      <td>2.0</td>\n",
       "      <td>2.0</td>\n",
       "      <td>...</td>\n",
       "      <td>a</td>\n",
       "      <td>0.0</td>\n",
       "      <td>240.0</td>\n",
       "      <td>0.0</td>\n",
       "      <td>transient</td>\n",
       "      <td>42.0</td>\n",
       "      <td>0.0</td>\n",
       "      <td>2.0</td>\n",
       "      <td>canceled</td>\n",
       "      <td>2017-02-15 00:00:00</td>\n",
       "    </tr>\n",
       "    <tr>\n",
       "      <th>83748</th>\n",
       "      <td>city hotel</td>\n",
       "      <td>False</td>\n",
       "      <td>0.0</td>\n",
       "      <td>NaN</td>\n",
       "      <td>february</td>\n",
       "      <td>7.0</td>\n",
       "      <td>10.0</td>\n",
       "      <td>0.0</td>\n",
       "      <td>1.0</td>\n",
       "      <td>2.0</td>\n",
       "      <td>...</td>\n",
       "      <td>a</td>\n",
       "      <td>0.0</td>\n",
       "      <td>9.0</td>\n",
       "      <td>0.0</td>\n",
       "      <td>transient</td>\n",
       "      <td>106.0</td>\n",
       "      <td>0.0</td>\n",
       "      <td>2.0</td>\n",
       "      <td>check-out</td>\n",
       "      <td>2016-02-11 00:00:00</td>\n",
       "    </tr>\n",
       "    <tr>\n",
       "      <th>129193</th>\n",
       "      <td>NaN</td>\n",
       "      <td>NaN</td>\n",
       "      <td>NaN</td>\n",
       "      <td>NaN</td>\n",
       "      <td>NaN</td>\n",
       "      <td>NaN</td>\n",
       "      <td>NaN</td>\n",
       "      <td>NaN</td>\n",
       "      <td>NaN</td>\n",
       "      <td>0</td>\n",
       "      <td>...</td>\n",
       "      <td>NaN</td>\n",
       "      <td>NaN</td>\n",
       "      <td>NaN</td>\n",
       "      <td>NaN</td>\n",
       "      <td>NaN</td>\n",
       "      <td>NaN</td>\n",
       "      <td>NaN</td>\n",
       "      <td>NaN</td>\n",
       "      <td>NaN</td>\n",
       "      <td>NaN</td>\n",
       "    </tr>\n",
       "  </tbody>\n",
       "</table>\n",
       "<p>5 rows × 30 columns</p>\n",
       "</div>"
      ],
      "text/plain": [
       "               hotel is_canceled  lead_time  arrival_date_year  \\\n",
       "5842    resort hotel        True        9.0                NaN   \n",
       "29498   resort hotel       False       87.0             2016.0   \n",
       "10278   resort hotel        True      112.0                NaN   \n",
       "83748     city hotel       False        0.0                NaN   \n",
       "129193           NaN         NaN        NaN                NaN   \n",
       "\n",
       "       arrival_date_month  arrival_date_week_number  \\\n",
       "5842                  may                      21.0   \n",
       "29498             october                       NaN   \n",
       "10278            february                       8.0   \n",
       "83748            february                       7.0   \n",
       "129193                NaN                       NaN   \n",
       "\n",
       "        arrival_date_day_of_month  stays_in_weekend_nights  \\\n",
       "5842                         15.0                      1.0   \n",
       "29498                        23.0                      2.0   \n",
       "10278                        24.0                      2.0   \n",
       "83748                        10.0                      0.0   \n",
       "129193                        NaN                      NaN   \n",
       "\n",
       "        stays_in_week_nights adults  ... assigned_room_type booking_changes  \\\n",
       "5842                     0.0    2.0  ...                  a             0.0   \n",
       "29498                    5.0    2.0  ...                  e             0.0   \n",
       "10278                    2.0    2.0  ...                  a             0.0   \n",
       "83748                    1.0    2.0  ...                  a             0.0   \n",
       "129193                   NaN      0  ...                NaN             NaN   \n",
       "\n",
       "        agent days_in_waiting_list    customer_type    adr  \\\n",
       "5842    315.0                  0.0  transient-party   70.0   \n",
       "29498   171.0                  0.0        transient   70.0   \n",
       "10278   240.0                  0.0        transient   42.0   \n",
       "83748     9.0                  0.0        transient  106.0   \n",
       "129193    NaN                  NaN              NaN    NaN   \n",
       "\n",
       "        required_car_parking_spaces  total_of_special_requests  \\\n",
       "5842                            0.0                        0.0   \n",
       "29498                           0.0                        0.0   \n",
       "10278                           0.0                        2.0   \n",
       "83748                           0.0                        2.0   \n",
       "129193                          NaN                        NaN   \n",
       "\n",
       "        reservation_status reservation_status_date  \n",
       "5842              canceled     2016-05-06 00:00:00  \n",
       "29498            check-out     2016-10-30 00:00:00  \n",
       "10278             canceled     2017-02-15 00:00:00  \n",
       "83748            check-out     2016-02-11 00:00:00  \n",
       "129193                 NaN                     NaN  \n",
       "\n",
       "[5 rows x 30 columns]"
      ]
     },
     "execution_count": 16,
     "metadata": {},
     "output_type": "execute_result"
    }
   ],
   "source": [
    "# Comprobamos los cambios que hemos realizado con un .sample(5)\n",
    "df.sample(5)"
   ]
  },
  {
   "cell_type": "code",
   "execution_count": 17,
   "metadata": {},
   "outputs": [
    {
     "data": {
      "text/plain": [
       "['lead_time',\n",
       " 'arrival_date_year',\n",
       " 'arrival_date_week_number',\n",
       " 'arrival_date_day_of_month',\n",
       " 'stays_in_weekend_nights',\n",
       " 'stays_in_week_nights',\n",
       " 'is_repeated_guest',\n",
       " 'previous_cancellations',\n",
       " 'previous_bookings_not_canceled',\n",
       " 'booking_changes',\n",
       " 'agent',\n",
       " 'days_in_waiting_list',\n",
       " 'adr',\n",
       " 'required_car_parking_spaces',\n",
       " 'total_of_special_requests']"
      ]
     },
     "execution_count": 17,
     "metadata": {},
     "output_type": "execute_result"
    }
   ],
   "source": [
    "columnas_float = df.select_dtypes(include=['float']).columns.tolist()\n",
    "columnas_float"
   ]
  },
  {
   "cell_type": "code",
   "execution_count": 18,
   "metadata": {},
   "outputs": [],
   "source": [
    "# Reemplazamos valores nulos por '99999' para poder convertir las columnas 'float' a 'int'\n",
    "df[columnas_float] = df[columnas_float].fillna(99999).astype(int)"
   ]
  },
  {
   "cell_type": "code",
   "execution_count": 19,
   "metadata": {},
   "outputs": [
    {
     "data": {
      "text/plain": [
       "dtype('int64')"
      ]
     },
     "execution_count": 19,
     "metadata": {},
     "output_type": "execute_result"
    }
   ],
   "source": [
    "df.agent.dtypes"
   ]
  },
  {
   "cell_type": "code",
   "execution_count": 20,
   "metadata": {},
   "outputs": [],
   "source": [
    "# Reemplazamos 99999 por None para que Tableau pueda manejar los datos correctamente. Tableu usa lenguage SQL\n",
    "df[columnas_float] = df[columnas_float].replace(99999, None)"
   ]
  },
  {
   "cell_type": "code",
   "execution_count": 21,
   "metadata": {},
   "outputs": [
    {
     "data": {
      "text/plain": [
       "dtype('float64')"
      ]
     },
     "execution_count": 21,
     "metadata": {},
     "output_type": "execute_result"
    }
   ],
   "source": [
    "df['adr'] = df['adr'].astype(float)\n",
    "df['adr'].dtypes"
   ]
  },
  {
   "cell_type": "code",
   "execution_count": 22,
   "metadata": {},
   "outputs": [
    {
     "data": {
      "text/plain": [
       "array([None, 0, 14, 10, 19, 13, 17, 1, 2, 3, 26, 25, 4, 24, 12, 16, 5, 11,\n",
       "       15, 18, 21, 6], dtype=object)"
      ]
     },
     "execution_count": 22,
     "metadata": {},
     "output_type": "execute_result"
    }
   ],
   "source": [
    "df.previous_cancellations.unique()"
   ]
  },
  {
   "cell_type": "code",
   "execution_count": 23,
   "metadata": {},
   "outputs": [],
   "source": [
    "df[['adults', 'children', 'babies']] = df[['adults', 'children', 'babies']].astype(int)"
   ]
  },
  {
   "cell_type": "code",
   "execution_count": 24,
   "metadata": {},
   "outputs": [
    {
     "data": {
      "text/plain": [
       "adults      int64\n",
       "children    int64\n",
       "babies      int64\n",
       "dtype: object"
      ]
     },
     "execution_count": 24,
     "metadata": {},
     "output_type": "execute_result"
    }
   ],
   "source": [
    "df[['adults', 'children', 'babies']].dtypes"
   ]
  },
  {
   "cell_type": "code",
   "execution_count": 25,
   "metadata": {},
   "outputs": [
    {
     "name": "stdout",
     "output_type": "stream",
     "text": [
      "<class 'pandas.core.frame.DataFrame'>\n",
      "Index: 182877 entries, 0 to 182876\n",
      "Data columns (total 30 columns):\n",
      " #   Column                          Non-Null Count   Dtype  \n",
      "---  ------                          --------------   -----  \n",
      " 0   hotel                           119390 non-null  object \n",
      " 1   is_canceled                     119390 non-null  object \n",
      " 2   lead_time                       119490 non-null  object \n",
      " 3   arrival_date_year               64829 non-null   object \n",
      " 4   arrival_date_month              119390 non-null  object \n",
      " 5   arrival_date_week_number        101004 non-null  object \n",
      " 6   arrival_date_day_of_month       119271 non-null  object \n",
      " 7   stays_in_weekend_nights         119490 non-null  object \n",
      " 8   stays_in_week_nights            119490 non-null  object \n",
      " 9   adults                          182877 non-null  int64  \n",
      " 10  children                        182877 non-null  int64  \n",
      " 11  babies                          182877 non-null  int64  \n",
      " 12  meal                            182877 non-null  object \n",
      " 13  country                         65054 non-null   object \n",
      " 14  market_segment                  182877 non-null  object \n",
      " 15  distribution_channel            182877 non-null  object \n",
      " 16  is_repeated_guest               114376 non-null  object \n",
      " 17  previous_cancellations          76228 non-null   object \n",
      " 18  previous_bookings_not_canceled  119390 non-null  object \n",
      " 19  reserved_room_type              79275 non-null   object \n",
      " 20  assigned_room_type              119390 non-null  object \n",
      " 21  booking_changes                 119418 non-null  object \n",
      " 22  agent                           103050 non-null  object \n",
      " 23  days_in_waiting_list            119390 non-null  object \n",
      " 24  customer_type                   94199 non-null   object \n",
      " 25  adr                             119390 non-null  float64\n",
      " 26  required_car_parking_spaces     119390 non-null  object \n",
      " 27  total_of_special_requests       119390 non-null  object \n",
      " 28  reservation_status              119390 non-null  object \n",
      " 29  reservation_status_date         106514 non-null  object \n",
      "dtypes: float64(1), int64(3), object(26)\n",
      "memory usage: 43.3+ MB\n"
     ]
    }
   ],
   "source": [
    "df.info()"
   ]
  },
  {
   "cell_type": "code",
   "execution_count": 26,
   "metadata": {},
   "outputs": [
    {
     "data": {
      "text/plain": [
       "dtype('O')"
      ]
     },
     "execution_count": 26,
     "metadata": {},
     "output_type": "execute_result"
    }
   ],
   "source": [
    "df.arrival_date_year.dtypes"
   ]
  },
  {
   "cell_type": "code",
   "execution_count": 27,
   "metadata": {},
   "outputs": [
    {
     "data": {
      "text/plain": [
       "array([2015, None, 2016, 2017], dtype=object)"
      ]
     },
     "execution_count": 27,
     "metadata": {},
     "output_type": "execute_result"
    }
   ],
   "source": [
    "df.arrival_date_year.unique()"
   ]
  },
  {
   "cell_type": "code",
   "execution_count": 28,
   "metadata": {},
   "outputs": [],
   "source": [
    "df.to_csv('finanzas-hotel-bookings-clean.csv')"
   ]
  }
 ],
 "metadata": {
  "kernelspec": {
   "display_name": "base",
   "language": "python",
   "name": "python3"
  },
  "language_info": {
   "codemirror_mode": {
    "name": "ipython",
    "version": 3
   },
   "file_extension": ".py",
   "mimetype": "text/x-python",
   "name": "python",
   "nbconvert_exporter": "python",
   "pygments_lexer": "ipython3",
   "version": "3.11.8"
  }
 },
 "nbformat": 4,
 "nbformat_minor": 2
}
