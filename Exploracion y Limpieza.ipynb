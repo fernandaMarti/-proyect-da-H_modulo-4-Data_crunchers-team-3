{
 "cells": [
  {
   "cell_type": "code",
   "execution_count": 335,
   "metadata": {},
   "outputs": [],
   "source": [
    "# Importamos las librerías necesarias\n",
    "import random\n",
    "import pandas as pd\n",
    "import warnings\n",
    "warnings.filterwarnings(\"ignore\")"
   ]
  },
  {
   "cell_type": "code",
   "execution_count": 336,
   "metadata": {},
   "outputs": [],
   "source": [
    "# Leemos el csv con el que vamos a trabajar\n",
    "df_o = pd.read_csv('finanzas-hotel-bookings.csv', index_col = 0)"
   ]
  },
  {
   "cell_type": "code",
   "execution_count": 337,
   "metadata": {},
   "outputs": [
    {
     "data": {
      "text/html": [
       "<div>\n",
       "<style scoped>\n",
       "    .dataframe tbody tr th:only-of-type {\n",
       "        vertical-align: middle;\n",
       "    }\n",
       "\n",
       "    .dataframe tbody tr th {\n",
       "        vertical-align: top;\n",
       "    }\n",
       "\n",
       "    .dataframe thead th {\n",
       "        text-align: right;\n",
       "    }\n",
       "</style>\n",
       "<table border=\"1\" class=\"dataframe\">\n",
       "  <thead>\n",
       "    <tr style=\"text-align: right;\">\n",
       "      <th></th>\n",
       "      <th>hotel</th>\n",
       "      <th>is_canceled</th>\n",
       "      <th>lead_time</th>\n",
       "      <th>arrival_date_year</th>\n",
       "      <th>arrival_date_month</th>\n",
       "      <th>arrival_date_week_number</th>\n",
       "      <th>arrival_date_day_of_month</th>\n",
       "      <th>stays_in_weekend_nights</th>\n",
       "      <th>stays_in_week_nights</th>\n",
       "      <th>adults</th>\n",
       "      <th>...</th>\n",
       "      <th>agent</th>\n",
       "      <th>company</th>\n",
       "      <th>days_in_waiting_list</th>\n",
       "      <th>customer_type</th>\n",
       "      <th>adr</th>\n",
       "      <th>required_car_parking_spaces</th>\n",
       "      <th>total_of_special_requests</th>\n",
       "      <th>reservation_status</th>\n",
       "      <th>reservation_status_date</th>\n",
       "      <th>0</th>\n",
       "    </tr>\n",
       "  </thead>\n",
       "  <tbody>\n",
       "    <tr>\n",
       "      <th>0</th>\n",
       "      <td>Resort Hotel</td>\n",
       "      <td>False</td>\n",
       "      <td>342.0</td>\n",
       "      <td>2015.0</td>\n",
       "      <td>July</td>\n",
       "      <td>27.0</td>\n",
       "      <td>1.0</td>\n",
       "      <td>0.0</td>\n",
       "      <td>0.0</td>\n",
       "      <td>2.0</td>\n",
       "      <td>...</td>\n",
       "      <td>NaN</td>\n",
       "      <td>NaN</td>\n",
       "      <td>0.0</td>\n",
       "      <td>Transient</td>\n",
       "      <td>0.0</td>\n",
       "      <td>0.0</td>\n",
       "      <td>0.0</td>\n",
       "      <td>Check-Out</td>\n",
       "      <td>2015-07-01 00:00:00</td>\n",
       "      <td>NaN</td>\n",
       "    </tr>\n",
       "    <tr>\n",
       "      <th>1</th>\n",
       "      <td>Resort Hotel</td>\n",
       "      <td>False</td>\n",
       "      <td>737.0</td>\n",
       "      <td>NaN</td>\n",
       "      <td>July</td>\n",
       "      <td>27.0</td>\n",
       "      <td>1.0</td>\n",
       "      <td>0.0</td>\n",
       "      <td>0.0</td>\n",
       "      <td>2.0</td>\n",
       "      <td>...</td>\n",
       "      <td>NaN</td>\n",
       "      <td>NaN</td>\n",
       "      <td>0.0</td>\n",
       "      <td>Transient</td>\n",
       "      <td>0.0</td>\n",
       "      <td>0.0</td>\n",
       "      <td>0.0</td>\n",
       "      <td>Check-Out</td>\n",
       "      <td>2015-07-01 00:00:00</td>\n",
       "      <td>NaN</td>\n",
       "    </tr>\n",
       "    <tr>\n",
       "      <th>2</th>\n",
       "      <td>Resort Hotel</td>\n",
       "      <td>False</td>\n",
       "      <td>7.0</td>\n",
       "      <td>2015.0</td>\n",
       "      <td>July</td>\n",
       "      <td>27.0</td>\n",
       "      <td>1.0</td>\n",
       "      <td>0.0</td>\n",
       "      <td>1.0</td>\n",
       "      <td>1.0</td>\n",
       "      <td>...</td>\n",
       "      <td>NaN</td>\n",
       "      <td>NaN</td>\n",
       "      <td>0.0</td>\n",
       "      <td>Transient</td>\n",
       "      <td>75.0</td>\n",
       "      <td>0.0</td>\n",
       "      <td>0.0</td>\n",
       "      <td>Check-Out</td>\n",
       "      <td>2015-07-02 00:00:00</td>\n",
       "      <td>NaN</td>\n",
       "    </tr>\n",
       "    <tr>\n",
       "      <th>3</th>\n",
       "      <td>Resort Hotel</td>\n",
       "      <td>False</td>\n",
       "      <td>13.0</td>\n",
       "      <td>NaN</td>\n",
       "      <td>July</td>\n",
       "      <td>27.0</td>\n",
       "      <td>1.0</td>\n",
       "      <td>0.0</td>\n",
       "      <td>1.0</td>\n",
       "      <td>1.0</td>\n",
       "      <td>...</td>\n",
       "      <td>304.0</td>\n",
       "      <td>NaN</td>\n",
       "      <td>0.0</td>\n",
       "      <td>Transient</td>\n",
       "      <td>75.0</td>\n",
       "      <td>0.0</td>\n",
       "      <td>0.0</td>\n",
       "      <td>Check-Out</td>\n",
       "      <td>2015-07-02 00:00:00</td>\n",
       "      <td>NaN</td>\n",
       "    </tr>\n",
       "    <tr>\n",
       "      <th>4</th>\n",
       "      <td>Resort Hotel</td>\n",
       "      <td>False</td>\n",
       "      <td>14.0</td>\n",
       "      <td>NaN</td>\n",
       "      <td>July</td>\n",
       "      <td>NaN</td>\n",
       "      <td>1.0</td>\n",
       "      <td>0.0</td>\n",
       "      <td>2.0</td>\n",
       "      <td>2.0</td>\n",
       "      <td>...</td>\n",
       "      <td>240.0</td>\n",
       "      <td>NaN</td>\n",
       "      <td>0.0</td>\n",
       "      <td>Transient</td>\n",
       "      <td>98.0</td>\n",
       "      <td>0.0</td>\n",
       "      <td>1.0</td>\n",
       "      <td>Check-Out</td>\n",
       "      <td>2015-07-03 00:00:00</td>\n",
       "      <td>NaN</td>\n",
       "    </tr>\n",
       "  </tbody>\n",
       "</table>\n",
       "<p>5 rows × 32 columns</p>\n",
       "</div>"
      ],
      "text/plain": [
       "          hotel is_canceled  lead_time  arrival_date_year arrival_date_month  \\\n",
       "0  Resort Hotel       False      342.0             2015.0               July   \n",
       "1  Resort Hotel       False      737.0                NaN               July   \n",
       "2  Resort Hotel       False        7.0             2015.0               July   \n",
       "3  Resort Hotel       False       13.0                NaN               July   \n",
       "4  Resort Hotel       False       14.0                NaN               July   \n",
       "\n",
       "   arrival_date_week_number  arrival_date_day_of_month  \\\n",
       "0                      27.0                        1.0   \n",
       "1                      27.0                        1.0   \n",
       "2                      27.0                        1.0   \n",
       "3                      27.0                        1.0   \n",
       "4                       NaN                        1.0   \n",
       "\n",
       "   stays_in_weekend_nights  stays_in_week_nights  adults  ...  agent  company  \\\n",
       "0                      0.0                   0.0     2.0  ...    NaN      NaN   \n",
       "1                      0.0                   0.0     2.0  ...    NaN      NaN   \n",
       "2                      0.0                   1.0     1.0  ...    NaN      NaN   \n",
       "3                      0.0                   1.0     1.0  ...  304.0      NaN   \n",
       "4                      0.0                   2.0     2.0  ...  240.0      NaN   \n",
       "\n",
       "  days_in_waiting_list customer_type   adr required_car_parking_spaces  \\\n",
       "0                  0.0     Transient   0.0                         0.0   \n",
       "1                  0.0     Transient   0.0                         0.0   \n",
       "2                  0.0     Transient  75.0                         0.0   \n",
       "3                  0.0     Transient  75.0                         0.0   \n",
       "4                  0.0     Transient  98.0                         0.0   \n",
       "\n",
       "   total_of_special_requests  reservation_status  reservation_status_date    0  \n",
       "0                        0.0           Check-Out      2015-07-01 00:00:00  NaN  \n",
       "1                        0.0           Check-Out      2015-07-01 00:00:00  NaN  \n",
       "2                        0.0           Check-Out      2015-07-02 00:00:00  NaN  \n",
       "3                        0.0           Check-Out      2015-07-02 00:00:00  NaN  \n",
       "4                        1.0           Check-Out      2015-07-03 00:00:00  NaN  \n",
       "\n",
       "[5 rows x 32 columns]"
      ]
     },
     "execution_count": 337,
     "metadata": {},
     "output_type": "execute_result"
    }
   ],
   "source": [
    "# Visualizamos las 5 primeras filas del DataFrame\n",
    "df_o.head()"
   ]
  },
  {
   "cell_type": "code",
   "execution_count": 338,
   "metadata": {},
   "outputs": [],
   "source": [
    "# Hacemos una copia del DataFrame original\n",
    "df = df_o.copy()"
   ]
  },
  {
   "cell_type": "code",
   "execution_count": 339,
   "metadata": {},
   "outputs": [
    {
     "name": "stdout",
     "output_type": "stream",
     "text": [
      "<class 'pandas.core.frame.DataFrame'>\n",
      "Index: 182877 entries, 0 to 182876\n",
      "Data columns (total 32 columns):\n",
      " #   Column                          Non-Null Count   Dtype  \n",
      "---  ------                          --------------   -----  \n",
      " 0   hotel                           119390 non-null  object \n",
      " 1   is_canceled                     119390 non-null  object \n",
      " 2   lead_time                       119490 non-null  float64\n",
      " 3   arrival_date_year               64829 non-null   float64\n",
      " 4   arrival_date_month              119390 non-null  object \n",
      " 5   arrival_date_week_number        101004 non-null  float64\n",
      " 6   arrival_date_day_of_month       119271 non-null  float64\n",
      " 7   stays_in_weekend_nights         119490 non-null  float64\n",
      " 8   stays_in_week_nights            119490 non-null  float64\n",
      " 9   adults                          119428 non-null  float64\n",
      " 10  children                        69302 non-null   float64\n",
      " 11  babies                          119431 non-null  float64\n",
      " 12  meal                            119390 non-null  object \n",
      " 13  country                         65054 non-null   object \n",
      " 14  market_segment                  59934 non-null   object \n",
      " 15  distribution_channel            105899 non-null  object \n",
      " 16  is_repeated_guest               114376 non-null  float64\n",
      " 17  previous_cancellations          76228 non-null   float64\n",
      " 18  previous_bookings_not_canceled  119390 non-null  float64\n",
      " 19  reserved_room_type              79275 non-null   object \n",
      " 20  assigned_room_type              119390 non-null  object \n",
      " 21  booking_changes                 119418 non-null  float64\n",
      " 22  agent                           103050 non-null  float64\n",
      " 23  company                         3870 non-null    float64\n",
      " 24  days_in_waiting_list            119390 non-null  float64\n",
      " 25  customer_type                   94199 non-null   object \n",
      " 26  adr                             119390 non-null  float64\n",
      " 27  required_car_parking_spaces     119390 non-null  float64\n",
      " 28  total_of_special_requests       119390 non-null  float64\n",
      " 29  reservation_status              119390 non-null  object \n",
      " 30  reservation_status_date         106514 non-null  object \n",
      " 31  0                               42951 non-null   object \n",
      "dtypes: float64(19), object(13)\n",
      "memory usage: 46.0+ MB\n"
     ]
    }
   ],
   "source": [
    "# Obtenemos información general del DataFrame\n",
    "df.info()"
   ]
  },
  {
   "cell_type": "code",
   "execution_count": 340,
   "metadata": {},
   "outputs": [
    {
     "data": {
      "text/plain": [
       "Index(['hotel', 'is_canceled', 'lead_time', 'arrival_date_year',\n",
       "       'arrival_date_month', 'arrival_date_week_number',\n",
       "       'arrival_date_day_of_month', 'stays_in_weekend_nights',\n",
       "       'stays_in_week_nights', 'adults', 'children', 'babies', 'meal',\n",
       "       'country', 'market_segment', 'distribution_channel',\n",
       "       'is_repeated_guest', 'previous_cancellations',\n",
       "       'previous_bookings_not_canceled', 'reserved_room_type',\n",
       "       'assigned_room_type', 'booking_changes', 'agent', 'company',\n",
       "       'days_in_waiting_list', 'customer_type', 'adr',\n",
       "       'required_car_parking_spaces', 'total_of_special_requests',\n",
       "       'reservation_status', 'reservation_status_date', '0'],\n",
       "      dtype='object')"
      ]
     },
     "execution_count": 340,
     "metadata": {},
     "output_type": "execute_result"
    }
   ],
   "source": [
    "# Visualizamos el nombre de las columnas\n",
    "df.columns"
   ]
  },
  {
   "cell_type": "code",
   "execution_count": 341,
   "metadata": {},
   "outputs": [],
   "source": [
    "# Eliminamos las columnas \"0\" y \"company\"\n",
    "df.drop(columns= ['0', 'company'], inplace = True)"
   ]
  },
  {
   "cell_type": "code",
   "execution_count": 342,
   "metadata": {},
   "outputs": [
    {
     "data": {
      "text/plain": [
       "(182877, 30)"
      ]
     },
     "execution_count": 342,
     "metadata": {},
     "output_type": "execute_result"
    }
   ],
   "source": [
    "# Comprobamos que se han eliminado las columnas correctamente\n",
    "df.shape"
   ]
  },
  {
   "cell_type": "code",
   "execution_count": 343,
   "metadata": {},
   "outputs": [
    {
     "data": {
      "text/plain": [
       "hotel                             34.715683\n",
       "is_canceled                       34.715683\n",
       "lead_time                         34.661002\n",
       "arrival_date_year                 64.550490\n",
       "arrival_date_month                34.715683\n",
       "arrival_date_week_number          44.769435\n",
       "arrival_date_day_of_month         34.780754\n",
       "stays_in_weekend_nights           34.661002\n",
       "stays_in_week_nights              34.661002\n",
       "adults                            34.694904\n",
       "children                          62.104584\n",
       "babies                            34.693264\n",
       "meal                              34.715683\n",
       "country                           64.427457\n",
       "market_segment                    67.227153\n",
       "distribution_channel              42.092773\n",
       "is_repeated_guest                 37.457417\n",
       "previous_cancellations            58.317339\n",
       "previous_bookings_not_canceled    34.715683\n",
       "reserved_room_type                56.651192\n",
       "assigned_room_type                34.715683\n",
       "booking_changes                   34.700372\n",
       "agent                             43.650650\n",
       "days_in_waiting_list              34.715683\n",
       "customer_type                     48.490515\n",
       "adr                               34.715683\n",
       "required_car_parking_spaces       34.715683\n",
       "total_of_special_requests         34.715683\n",
       "reservation_status                34.715683\n",
       "reservation_status_date           41.756481\n",
       "dtype: float64"
      ]
     },
     "execution_count": 343,
     "metadata": {},
     "output_type": "execute_result"
    }
   ],
   "source": [
    "# Comprobamos los porcentajes de nulos en las columnas\n",
    "porcentaje_nulos = df.isnull().mean() * 100\n",
    "porcentaje_nulos "
   ]
  },
  {
   "cell_type": "code",
   "execution_count": 344,
   "metadata": {},
   "outputs": [],
   "source": [
    "# Reemplazamos los valores nulos por 0 en las columnas\n",
    "def reemplazo_nan_cero(df, columnas):\n",
    "      for columna in columnas:\n",
    "        df[columna].fillna('0', inplace=True)\n",
    "\n",
    "columnas_a_reemplazar = ['children', 'adults', 'babies'] \n",
    "reemplazo_nan_cero(df, columnas_a_reemplazar)"
   ]
  },
  {
   "cell_type": "code",
   "execution_count": 345,
   "metadata": {},
   "outputs": [],
   "source": [
    "# Convertimos los valores de las filas a minúscula\n",
    "def lowercase_all_strings(df):\n",
    "    for col in df.columns:\n",
    "        if df[col].dtype == 'object':\n",
    "            # Nos aseguramos de que cada valor no nulo se trate como una cadena antes de convertirlo a minúsculas\n",
    "            df[col] = df[col].apply(lambda x: x.lower() if isinstance(x, str) else x)\n",
    "    return df\n",
    "\n",
    "df = lowercase_all_strings(df)"
   ]
  },
  {
   "cell_type": "markdown",
   "metadata": {},
   "source": [
    "**MANTENEMOS LOS VALORES NULOS DE LAS SIGUIENTES COLUMNAS:**\n",
    "\n",
    "- `hotel`\n",
    "- `is_canceled`\n",
    "- `arrival_date_month`\n",
    "- `arrival_date_week_number`\n",
    "- `arrival_date_day_of_month`\n",
    "- `stays_in_weekend_nights`\n",
    "- `stays_in_week_nights`\n",
    "- `country`\n",
    "- `previous_cancellations`\n",
    "- `previous_bookings_not_canceled`\n",
    "- `reserved_room_type`\n",
    "- `assigned_room_type`\n",
    "- `booking_changes`\n",
    "- `agent`\n",
    "- `days_in_waiting_list`\n",
    "- `customer_type`\n",
    "- `adr`\n",
    "- `required_car_parking_spaces`\n",
    "- `total_of_special_requests`\n",
    "- `reservation_status`\n",
    "- `reservation_status_date`\n"
   ]
  },
  {
   "cell_type": "code",
   "execution_count": 346,
   "metadata": {},
   "outputs": [],
   "source": [
    "# Reemplazamos los valores nulos por \"undefined\"\n",
    "def reemplazo_null_undefined(df, columnas):\n",
    "      for columna in columnas:\n",
    "        df[columna].fillna('undefined', inplace=True)\n",
    "\n",
    "columnas_a_reemplazar = ['meal', 'market_segment','distribution_channel'] \n",
    "reemplazo_null_undefined(df, columnas_a_reemplazar)"
   ]
  },
  {
   "cell_type": "code",
   "execution_count": 347,
   "metadata": {},
   "outputs": [
    {
     "data": {
      "text/plain": [
       "(array(['bb', 'fb', 'hb', 'sc', 'undefined'], dtype=object),\n",
       " array(['undefined', 'corporate', 'online ta', 'direct', 'offline ta/to',\n",
       "        'groups', 'complementary', 'aviation'], dtype=object),\n",
       " array(['direct', 'corporate', 'ta/to', 'undefined', 'gds'], dtype=object))"
      ]
     },
     "execution_count": 347,
     "metadata": {},
     "output_type": "execute_result"
    }
   ],
   "source": [
    "# Comprobamos que se han hecho los cambios correctamente\n",
    "df['meal'].unique(), df['market_segment'].unique(), df['distribution_channel'].unique()"
   ]
  },
  {
   "cell_type": "code",
   "execution_count": 348,
   "metadata": {},
   "outputs": [],
   "source": [
    "# Reemplazamos los valores 1, 2 y 3 por los meses enero, febrero y marzo\n",
    "reemplazos_dict = {\n",
    "    '1': 'january',\n",
    "    '2': 'february',\n",
    "    '3': 'march'\n",
    "}\n",
    "df['arrival_date_month'] = df['arrival_date_month'].replace(reemplazos_dict)"
   ]
  },
  {
   "cell_type": "code",
   "execution_count": 349,
   "metadata": {},
   "outputs": [
    {
     "data": {
      "text/plain": [
       "array(['july', 'august', 'september', 'october', 'november', 'december',\n",
       "       'january', 'february', 'march', 'april', 'may', 'june', nan],\n",
       "      dtype=object)"
      ]
     },
     "execution_count": 349,
     "metadata": {},
     "output_type": "execute_result"
    }
   ],
   "source": [
    "# Comprobamos que se han hecho los cambios correctamente\n",
    "df['arrival_date_month'].unique()"
   ]
  },
  {
   "cell_type": "code",
   "execution_count": 350,
   "metadata": {},
   "outputs": [
    {
     "data": {
      "text/html": [
       "<div>\n",
       "<style scoped>\n",
       "    .dataframe tbody tr th:only-of-type {\n",
       "        vertical-align: middle;\n",
       "    }\n",
       "\n",
       "    .dataframe tbody tr th {\n",
       "        vertical-align: top;\n",
       "    }\n",
       "\n",
       "    .dataframe thead th {\n",
       "        text-align: right;\n",
       "    }\n",
       "</style>\n",
       "<table border=\"1\" class=\"dataframe\">\n",
       "  <thead>\n",
       "    <tr style=\"text-align: right;\">\n",
       "      <th></th>\n",
       "      <th>hotel</th>\n",
       "      <th>is_canceled</th>\n",
       "      <th>lead_time</th>\n",
       "      <th>arrival_date_year</th>\n",
       "      <th>arrival_date_month</th>\n",
       "      <th>arrival_date_week_number</th>\n",
       "      <th>arrival_date_day_of_month</th>\n",
       "      <th>stays_in_weekend_nights</th>\n",
       "      <th>stays_in_week_nights</th>\n",
       "      <th>adults</th>\n",
       "      <th>...</th>\n",
       "      <th>assigned_room_type</th>\n",
       "      <th>booking_changes</th>\n",
       "      <th>agent</th>\n",
       "      <th>days_in_waiting_list</th>\n",
       "      <th>customer_type</th>\n",
       "      <th>adr</th>\n",
       "      <th>required_car_parking_spaces</th>\n",
       "      <th>total_of_special_requests</th>\n",
       "      <th>reservation_status</th>\n",
       "      <th>reservation_status_date</th>\n",
       "    </tr>\n",
       "  </thead>\n",
       "  <tbody>\n",
       "    <tr>\n",
       "      <th>44945</th>\n",
       "      <td>city hotel</td>\n",
       "      <td>True</td>\n",
       "      <td>180.0</td>\n",
       "      <td>2015.0</td>\n",
       "      <td>october</td>\n",
       "      <td>42.0</td>\n",
       "      <td>16.0</td>\n",
       "      <td>0.0</td>\n",
       "      <td>1.0</td>\n",
       "      <td>2.0</td>\n",
       "      <td>...</td>\n",
       "      <td>a</td>\n",
       "      <td>0.0</td>\n",
       "      <td>3.0</td>\n",
       "      <td>0.0</td>\n",
       "      <td>NaN</td>\n",
       "      <td>70.00</td>\n",
       "      <td>0.0</td>\n",
       "      <td>0.0</td>\n",
       "      <td>canceled</td>\n",
       "      <td>2015-08-31 00:00:00</td>\n",
       "    </tr>\n",
       "    <tr>\n",
       "      <th>46523</th>\n",
       "      <td>city hotel</td>\n",
       "      <td>False</td>\n",
       "      <td>1.0</td>\n",
       "      <td>2016.0</td>\n",
       "      <td>january</td>\n",
       "      <td>2.0</td>\n",
       "      <td>4.0</td>\n",
       "      <td>1.0</td>\n",
       "      <td>1.0</td>\n",
       "      <td>2.0</td>\n",
       "      <td>...</td>\n",
       "      <td>b</td>\n",
       "      <td>0.0</td>\n",
       "      <td>NaN</td>\n",
       "      <td>0.0</td>\n",
       "      <td>NaN</td>\n",
       "      <td>76.25</td>\n",
       "      <td>0.0</td>\n",
       "      <td>1.0</td>\n",
       "      <td>check-out</td>\n",
       "      <td>2016-01-06 00:00:00</td>\n",
       "    </tr>\n",
       "    <tr>\n",
       "      <th>118305</th>\n",
       "      <td>city hotel</td>\n",
       "      <td>False</td>\n",
       "      <td>134.0</td>\n",
       "      <td>NaN</td>\n",
       "      <td>august</td>\n",
       "      <td>NaN</td>\n",
       "      <td>16.0</td>\n",
       "      <td>0.0</td>\n",
       "      <td>2.0</td>\n",
       "      <td>1.0</td>\n",
       "      <td>...</td>\n",
       "      <td>a</td>\n",
       "      <td>0.0</td>\n",
       "      <td>52.0</td>\n",
       "      <td>0.0</td>\n",
       "      <td>transient</td>\n",
       "      <td>71.10</td>\n",
       "      <td>0.0</td>\n",
       "      <td>0.0</td>\n",
       "      <td>check-out</td>\n",
       "      <td>2017-08-18 00:00:00</td>\n",
       "    </tr>\n",
       "    <tr>\n",
       "      <th>140759</th>\n",
       "      <td>NaN</td>\n",
       "      <td>NaN</td>\n",
       "      <td>NaN</td>\n",
       "      <td>NaN</td>\n",
       "      <td>NaN</td>\n",
       "      <td>NaN</td>\n",
       "      <td>NaN</td>\n",
       "      <td>NaN</td>\n",
       "      <td>NaN</td>\n",
       "      <td>0</td>\n",
       "      <td>...</td>\n",
       "      <td>NaN</td>\n",
       "      <td>NaN</td>\n",
       "      <td>NaN</td>\n",
       "      <td>NaN</td>\n",
       "      <td>NaN</td>\n",
       "      <td>NaN</td>\n",
       "      <td>NaN</td>\n",
       "      <td>NaN</td>\n",
       "      <td>NaN</td>\n",
       "      <td>NaN</td>\n",
       "    </tr>\n",
       "    <tr>\n",
       "      <th>96492</th>\n",
       "      <td>city hotel</td>\n",
       "      <td>False</td>\n",
       "      <td>3.0</td>\n",
       "      <td>2016.0</td>\n",
       "      <td>september</td>\n",
       "      <td>36.0</td>\n",
       "      <td>2.0</td>\n",
       "      <td>0.0</td>\n",
       "      <td>1.0</td>\n",
       "      <td>2.0</td>\n",
       "      <td>...</td>\n",
       "      <td>d</td>\n",
       "      <td>0.0</td>\n",
       "      <td>14.0</td>\n",
       "      <td>0.0</td>\n",
       "      <td>NaN</td>\n",
       "      <td>140.00</td>\n",
       "      <td>0.0</td>\n",
       "      <td>1.0</td>\n",
       "      <td>check-out</td>\n",
       "      <td>2016-03-09 00:00:00</td>\n",
       "    </tr>\n",
       "  </tbody>\n",
       "</table>\n",
       "<p>5 rows × 30 columns</p>\n",
       "</div>"
      ],
      "text/plain": [
       "             hotel is_canceled  lead_time  arrival_date_year  \\\n",
       "44945   city hotel        True      180.0             2015.0   \n",
       "46523   city hotel       False        1.0             2016.0   \n",
       "118305  city hotel       False      134.0                NaN   \n",
       "140759         NaN         NaN        NaN                NaN   \n",
       "96492   city hotel       False        3.0             2016.0   \n",
       "\n",
       "       arrival_date_month  arrival_date_week_number  \\\n",
       "44945             october                      42.0   \n",
       "46523             january                       2.0   \n",
       "118305             august                       NaN   \n",
       "140759                NaN                       NaN   \n",
       "96492           september                      36.0   \n",
       "\n",
       "        arrival_date_day_of_month  stays_in_weekend_nights  \\\n",
       "44945                        16.0                      0.0   \n",
       "46523                         4.0                      1.0   \n",
       "118305                       16.0                      0.0   \n",
       "140759                        NaN                      NaN   \n",
       "96492                         2.0                      0.0   \n",
       "\n",
       "        stays_in_week_nights adults  ... assigned_room_type booking_changes  \\\n",
       "44945                    1.0    2.0  ...                  a             0.0   \n",
       "46523                    1.0    2.0  ...                  b             0.0   \n",
       "118305                   2.0    1.0  ...                  a             0.0   \n",
       "140759                   NaN      0  ...                NaN             NaN   \n",
       "96492                    1.0    2.0  ...                  d             0.0   \n",
       "\n",
       "       agent days_in_waiting_list customer_type     adr  \\\n",
       "44945    3.0                  0.0           NaN   70.00   \n",
       "46523    NaN                  0.0           NaN   76.25   \n",
       "118305  52.0                  0.0     transient   71.10   \n",
       "140759   NaN                  NaN           NaN     NaN   \n",
       "96492   14.0                  0.0           NaN  140.00   \n",
       "\n",
       "        required_car_parking_spaces  total_of_special_requests  \\\n",
       "44945                           0.0                        0.0   \n",
       "46523                           0.0                        1.0   \n",
       "118305                          0.0                        0.0   \n",
       "140759                          NaN                        NaN   \n",
       "96492                           0.0                        1.0   \n",
       "\n",
       "        reservation_status reservation_status_date  \n",
       "44945             canceled     2015-08-31 00:00:00  \n",
       "46523            check-out     2016-01-06 00:00:00  \n",
       "118305           check-out     2017-08-18 00:00:00  \n",
       "140759                 NaN                     NaN  \n",
       "96492            check-out     2016-03-09 00:00:00  \n",
       "\n",
       "[5 rows x 30 columns]"
      ]
     },
     "execution_count": 350,
     "metadata": {},
     "output_type": "execute_result"
    }
   ],
   "source": [
    "# Comprobamos los cambios que hemos realizado con un .sample(5)\n",
    "df.sample(5)"
   ]
  },
  {
   "cell_type": "code",
   "execution_count": 351,
   "metadata": {},
   "outputs": [
    {
     "data": {
      "text/plain": [
       "['lead_time',\n",
       " 'arrival_date_year',\n",
       " 'arrival_date_week_number',\n",
       " 'arrival_date_day_of_month',\n",
       " 'stays_in_weekend_nights',\n",
       " 'stays_in_week_nights',\n",
       " 'is_repeated_guest',\n",
       " 'previous_cancellations',\n",
       " 'previous_bookings_not_canceled',\n",
       " 'booking_changes',\n",
       " 'agent',\n",
       " 'days_in_waiting_list',\n",
       " 'adr',\n",
       " 'required_car_parking_spaces',\n",
       " 'total_of_special_requests']"
      ]
     },
     "execution_count": 351,
     "metadata": {},
     "output_type": "execute_result"
    }
   ],
   "source": [
    "columnas_float = df.select_dtypes(include=['float']).columns.tolist()\n",
    "columnas_float"
   ]
  },
  {
   "cell_type": "code",
   "execution_count": 352,
   "metadata": {},
   "outputs": [],
   "source": [
    "# Reemplazamos valores nulos por '99999' para poder convertir las columnas 'float' a 'int'\n",
    "df[columnas_float] = df[columnas_float].fillna(99999).astype(int)"
   ]
  },
  {
   "cell_type": "code",
   "execution_count": 353,
   "metadata": {},
   "outputs": [
    {
     "data": {
      "text/plain": [
       "dtype('int64')"
      ]
     },
     "execution_count": 353,
     "metadata": {},
     "output_type": "execute_result"
    }
   ],
   "source": [
    "df.agent.dtypes"
   ]
  },
  {
   "cell_type": "code",
   "execution_count": 357,
   "metadata": {},
   "outputs": [],
   "source": [
    "df[columnas_float] = df[columnas_float].replace(99999, 0)"
   ]
  },
  {
   "cell_type": "code",
   "execution_count": 365,
   "metadata": {},
   "outputs": [
    {
     "data": {
      "text/plain": [
       "dtype('float64')"
      ]
     },
     "execution_count": 365,
     "metadata": {},
     "output_type": "execute_result"
    }
   ],
   "source": [
    "df['adr'] = df['adr'].astype(float)\n",
    "df['adr'].dtypes"
   ]
  },
  {
   "cell_type": "code",
   "execution_count": 356,
   "metadata": {},
   "outputs": [],
   "source": [
    "df.to_csv('finanzas-hotel-bookings-CLEANED.csv')"
   ]
  }
 ],
 "metadata": {
  "kernelspec": {
   "display_name": "base",
   "language": "python",
   "name": "python3"
  },
  "language_info": {
   "codemirror_mode": {
    "name": "ipython",
    "version": 3
   },
   "file_extension": ".py",
   "mimetype": "text/x-python",
   "name": "python",
   "nbconvert_exporter": "python",
   "pygments_lexer": "ipython3",
   "version": "3.11.8"
  }
 },
 "nbformat": 4,
 "nbformat_minor": 2
}
